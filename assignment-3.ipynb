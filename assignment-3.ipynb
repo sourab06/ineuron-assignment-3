{
 "cells": [
  {
   "cell_type": "markdown",
   "metadata": {},
   "source": [
    "Task 1:\n",
    "1.\n",
    "Write a function to compute 5/0 and use try/except to catch the exceptions."
   ]
  },
  {
   "cell_type": "code",
   "execution_count": 1,
   "metadata": {},
   "outputs": [],
   "source": [
    "def div(a,b):\n",
    "    try:\n",
    "        c=a/b\n",
    "        print(c)\n",
    "    except:\n",
    "        print('the denominator should be a non-zero number')\n",
    "    else:\n",
    "        print('division successful')\n",
    "        \n",
    "        "
   ]
  },
  {
   "cell_type": "code",
   "execution_count": 2,
   "metadata": {},
   "outputs": [
    {
     "name": "stdout",
     "output_type": "stream",
     "text": [
      "2.0\n",
      "division successful\n"
     ]
    }
   ],
   "source": [
    "div(4,2)"
   ]
  },
  {
   "cell_type": "code",
   "execution_count": 3,
   "metadata": {},
   "outputs": [
    {
     "name": "stdout",
     "output_type": "stream",
     "text": [
      "the denominator should be a non-zero number\n"
     ]
    }
   ],
   "source": [
    "div(5,0)"
   ]
  },
  {
   "cell_type": "markdown",
   "metadata": {},
   "source": [
    "2.\n",
    "Implement a Python program to generate all sentences where subject is in [\"Americans\",\n",
    "\"Indians\"] and verb is in [\"Play\", \"watch\"] and the object is in [\"Baseball\",\"cricket\"].\n",
    "Hint: Subject,Verb and Object should be declared in the program as shown below.\n",
    "subjects=[\"Americans \",\"Indians\"]\n",
    "verbs=[\"play\",\"watch\"]\n",
    "objects=[\"Baseball\",\"Cricket\"]"
   ]
  },
  {
   "cell_type": "code",
   "execution_count": 4,
   "metadata": {},
   "outputs": [
    {
     "name": "stdout",
     "output_type": "stream",
     "text": [
      "Americans  play Baseball\n",
      "Americans  play Cricket\n",
      "Americans  watch Baseball\n",
      "Americans  watch Cricket\n",
      "Indians play Baseball\n",
      "Indians play Cricket\n",
      "Indians watch Baseball\n",
      "Indians watch Cricket\n"
     ]
    }
   ],
   "source": [
    "long=[]\n",
    "long=[i+\" \"+j+\" \"+k for i in [\"Americans \",\"Indians\"] for j in [\"play\",\"watch\"] for k in [\"Baseball\",\"Cricket\"]]\n",
    "for i in range(0,8):\n",
    "    print(long[i])"
   ]
  },
  {
   "cell_type": "markdown",
   "metadata": {},
   "source": [
    "Task 2:\n",
    "1.\n",
    "Write a function so that the columns of the output matrix are powers of the input vector.\n",
    "The order of the powers is determined by the increasing boolean argument. Specifically, when\n",
    "increasing is False, the i-th output column is the input vector raised element-wise to the power\n",
    "of N - i - 1."
   ]
  },
  {
   "cell_type": "code",
   "execution_count": 8,
   "metadata": {},
   "outputs": [
    {
     "name": "stdout",
     "output_type": "stream",
     "text": [
      "enter the element of the input vector seperated by commas1,2,3,4,5\n",
      "enter the value of increasing, 0 or 1 0\n",
      "1    1    1    1    1    \n",
      "\n",
      "16    8    4    2    1    \n",
      "\n",
      "81    27    9    3    1    \n",
      "\n",
      "256    64    16    4    1    \n",
      "\n",
      "625    125    25    5    1    \n",
      "\n"
     ]
    }
   ],
   "source": [
    "a=input(\"enter the element of the input vector seperated by commas\")\n",
    "b=[]\n",
    "b=a.split(',')\n",
    "list2=[]\n",
    "list2=[int(b[i]) for i in range(0,len(b))]\n",
    "n=len(list2)\n",
    "inc=input(\"enter the value of increasing, 0 or 1 \")\n",
    "inc1=int(inc)\n",
    "if(inc1==0):\n",
    "    for i in range(0,n):\n",
    "        for j in range(0,n):\n",
    "            e=list2[i]**(n-j-1)\n",
    "            print(e,end ='    ')\n",
    "        print(\"\\n\")\n",
    "if(inc1==1):\n",
    "    for i in range(0,n):\n",
    "        for j in range(n-1,-1,-1):\n",
    "            e=list2[i]**(n-j-1)\n",
    "            print(e,end ='    ')\n",
    "        print(\"\\n\")\n"
   ]
  },
  {
   "cell_type": "code",
   "execution_count": null,
   "metadata": {},
   "outputs": [],
   "source": []
  },
  {
   "cell_type": "code",
   "execution_count": null,
   "metadata": {},
   "outputs": [],
   "source": []
  }
 ],
 "metadata": {
  "kernelspec": {
   "display_name": "Python 3",
   "language": "python",
   "name": "python3"
  },
  "language_info": {
   "codemirror_mode": {
    "name": "ipython",
    "version": 3
   },
   "file_extension": ".py",
   "mimetype": "text/x-python",
   "name": "python",
   "nbconvert_exporter": "python",
   "pygments_lexer": "ipython3",
   "version": "3.6.5"
  }
 },
 "nbformat": 4,
 "nbformat_minor": 2
}
